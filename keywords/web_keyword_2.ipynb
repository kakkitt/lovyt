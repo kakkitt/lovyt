{
 "cells": [
  {
   "cell_type": "code",
   "execution_count": 1,
   "metadata": {},
   "outputs": [
    {
     "name": "stdout",
     "output_type": "stream",
     "text": [
      "c:\\Users\\user\\Desktop\\LangChain\\Daily\\daily_env\\Scripts\\python.exe\n"
     ]
    }
   ],
   "source": [
    "import sys \n",
    "\n",
    "\n",
    "print(sys.executable)"
   ]
  },
  {
   "cell_type": "code",
   "execution_count": 21,
   "metadata": {},
   "outputs": [],
   "source": [
    "import requests\n",
    "from bs4 import BeautifulSoup\n",
    "import openai\n",
    "import os\n",
    "\n",
    "# ArchDaily 웹페이지 URL\n",
    "url = \"https://www.archdaily.com/1019034/dr-cosmo-design-story-mixed-use-space-another-d-studio?ad_source=search&ad_medium=projects_tab\"\n",
    "\n",
    "# 웹페이지 내용 가져오기\n",
    "response = requests.get(url)\n",
    "html_content = response.text\n",
    "\n",
    "# BeautifulSoup을 사용하여 HTML 파싱\n",
    "soup = BeautifulSoup(html_content, 'html.parser')\n",
    "text = soup.get_text()\n",
    "\n",
    "# 텍스트 전처리 (필요에 따라 추가 전처리 가능)\n",
    "processed_text = ' '.join(text.split())\n"
   ]
  },
  {
   "cell_type": "code",
   "execution_count": 22,
   "metadata": {},
   "outputs": [
    {
     "data": {
      "text/plain": [
       "'Dr. COSMO Design Story Mixed Use Space / Another D Studio | ArchDaily\\n\\n\\n\\n\\n\\n\\n\\n\\n\\n\\n\\n\\n\\n\\n\\n\\n\\n\\n\\n\\n\\n\\n\\n\\n\\n\\n\\n\\n\\n\\n\\n\\n\\n\\n\\n\\n\\n\\n\\n\\n\\n\\n\\n\\n\\n\\n\\n\\n\\n\\n\\nProjects\\n\\n\\nImages\\n\\n\\nProducts & BIM\\n\\n\\nProfessionals\\n\\n\\nNews\\n\\n\\nVideos\\n\\n\\n\\n\\n\\n\\n\\n\\n\\n\\n\\n\\n\\n\\n\\n\\n\\n\\n\\n\\nSubmit a Project\\n\\n\\nAdvertise\\n\\n\\nArchitonic\\n\\n\\n\\n\\n\\n\\n\\nWorld\\n\\n\\n\\n\\n\\n\\nBrasil\\n\\n\\n\\n\\n\\nHispanoamérica\\n\\n\\n\\n\\n\\nMéxico\\n\\n\\n\\n\\n\\n中国\\n\\n\\n\\n\\n\\n\\n\\n\\n\\n\\nArticles\\n\\n\\n\\n\\nNews\\n\\n\\n\\n\\nInterviews\\n\\n\\n\\n\\nVideos\\n\\n\\n\\n\\nCity Guides\\n\\n\\n\\n\\nFolders\\n\\n\\n\\n\\nTopics\\n\\n\\n\\n\\nSustainability\\n\\n\\n\\n\\nMaterials\\n\\n\\n\\n\\nTechnology\\n\\n\\n\\n\\nWhat is Good Architecture?\\n\\n\\n\\n\\n\\n\\n\\n\\nProjects\\n\\n\\n\\n\\nResidential Architecture\\n\\n\\n\\n\\nHospitality Architecture\\n\\n\\n\\n\\nInterior Design\\n\\n\\n\\n\\nCultural Architecture\\n\\n\\n\\n\\nPublic Architecture\\n\\n\\n\\n\\nLandscape & Urbanism\\n\\n\\n\\n\\nCommercial & Offices\\n\\n\\n\\n\\nEducational Architecture\\n\\n\\n\\n\\nTop 100\\n\\n\\n\\n\\nProject Images\\n\\n\\n\\n\\n\\n\\n\\n\\nProducts\\n\\n\\n\\n\\nApplications\\n\\n\\n\\n\\nBIM\\n\\n\\n\\n\\nConstruction Materials\\n\\n\\n\\n\\nEquipment\\n\\n\\n\\n\\nFinishes\\n\\n\\n\\n\\nFurniture\\n\\n\\n\\n\\nMEP & HVAC\\n\\n\\n\\n\\nTechnology\\n\\n\\n\\n\\nManufacturers\\n\\n\\n\\n\\n\\n\\n\\n\\nProfessionals\\n\\n\\n\\n\\nArchitecture Offices\\n\\n\\n\\n\\nInterior Designers\\n\\n\\n\\n\\nUrban Planners\\n\\n\\n\\n\\nLandscape Architects\\n\\n\\n\\n\\nEngineers & Consultants\\n\\n\\n\\n\\nProject Managers\\n\\n\\n\\n\\nConstruction Companies\\n\\n\\n\\n\\n\\n\\n\\n\\nCompetitions\\n\\n\\n\\n\\nEvents\\n\\n\\n\\n\\nPublications\\n\\n\\n\\n\\nAwards\\n\\n\\n\\n\\nBuilding of the Year\\n\\n\\n\\n\\nHolcim Awards 2023\\n\\n\\n\\n\\nPritzker Prize\\n\\n\\n\\n\\nEU Mies Van Der Rohe Award\\n\\n\\n\\n\\nGerman Design Council\\n\\n\\n\\n\\n\\n\\nExhibitions\\n\\n\\n\\n\\nWorld Design Capital Valencia\\n\\n\\n\\n\\nVenice Architecture Biennale\\n\\n\\n\\n\\nVenice Art Biennale\\n\\n\\n\\n\\nChicago Architecture Biennial\\n\\n\\n\\n\\n\\n\\n\\n\\n\\n\\n\\n\\n\\n\\n\\n\\n© All rights reserved. ArchDaily, part of DAAily platforms AG 2008-2024\\n\\n\\nISSN 0719-8884\\n\\n\\nAll images are © each office/photographer mentioned.\\n\\n\\n\\n\\n\\n\\nAbout\\n\\n\\n\\n\\nContact\\n\\n\\n\\n\\nImprint\\n\\n\\n\\n\\nWork at ArchDaily\\n\\n\\n\\n\\nTerms of Use\\n\\n\\n\\n\\nPrivacy Policy\\n\\n\\n\\n\\nCookie Policy\\n\\n\\n\\n\\nRSS\\n\\n\\n\\n\\nNewsletter\\n\\n\\n\\n\\n\\n\\nfacebook\\n\\n\\n\\n\\ntwitter\\n\\n\\n\\n\\nflickr\\n\\n\\n\\n\\npinterest\\n\\n\\n\\n\\ninstagram\\n\\n\\n\\n\\nvimeo\\n\\n\\n\\n\\nyoutube\\n\\n\\n\\n\\n\\n\\n\\n\\n\\n\\n\\n\\n\\n\\n\\n\\n\\n\\n\\n\\n\\n\\n\\n\\n\\n\\n\\n\\n\\n\\n\\n\\n\\n\\n\\n\\n✕\\n\\n\\n\\n\\n\\n\\nProjects\\n\\n\\n\\n\\nImages\\n\\n\\n\\n\\nProducts\\n\\n\\n\\n\\nBIM\\n\\n\\n\\n\\nProfessionals\\n\\n\\n\\n\\nNews & Topics\\n\\n\\n\\n\\n\\nCompetitions\\n\\n\\n\\n\\nEvents\\n\\n\\n\\n\\n\\n\\n\\n\\nAbout\\n\\n\\n\\n\\nContact\\n\\n\\n\\n\\nSubmit\\n\\n\\n\\n\\nSubscribe\\n\\n\\n\\n\\nArchitonic\\n\\n\\n\\n\\n\\n\\n\\n\\n\\nChange country\\n\\n\\n\\n\\n\\n\\n\\n\\n\\n\\nSettings\\n\\n\\n\\n\\n\\n\\n\\n\\n\\n\\nLog out\\n\\n\\n\\n\\n\\n\\n\\n\\nBack\\n\\n\\n\\n\\nNews\\n\\n\\n\\n\\nArticles\\n\\n\\n\\n\\nMonthly Topics\\n\\n\\n\\n\\nRefurbishment\\n\\n\\n\\n\\nTop 100\\n\\n\\n\\n\\n\\n\\n\\n\\nBrasil\\n\\n\\n\\n\\n\\nHispanoamérica\\n\\n\\n\\n\\n\\nMéxico\\n\\n\\n\\n\\n\\n中国\\n\\n\\n\\n\\n\\n\\n\\n\\n\\n\\n\\n\\n\\n\\n\\n\\n\\n\\n\\n\\n\\n\\n\\n\\n\\n\\n\\n\\n\\n\\n\\n\\n\\n\\n\\n\\n\\n\\n\\n\\n\\n\\nProjects\\n\\n\\n\\n\\n\\n\\n\\n\\n\\n\\n\\n\\n\\nImages\\n\\n\\n\\n\\n\\n\\n\\n\\n\\n\\n\\n\\n\\n\\n\\n\\n\\n\\n\\n\\n\\n\\n\\n\\n\\nProducts\\n\\n\\n\\n\\n\\n\\n\\n\\n\\n\\nFolders\\n\\n\\n\\n\\n\\nFeed\\n\\n\\n\\n\\n\\n\\n\\n\\n\\nArchDaily\\n\\n\\n\\n\\n\\nProjects\\n\\n\\n\\n\\n\\nMixed Use Architecture\\n\\n\\n\\n\\n\\nSouth Korea\\n\\n\\n\\n\\nDr. COSMO Design Story Mixed Use Space / Another D Studio\\n\\nDr. COSMO Design Story Mixed Use Space / Another D StudioSaveSave this picture!© Donggyu Kim+ 17\\nCurated by Hana Abdel\\n\\nShare\\n\\n\\n\\n\\n\\nShareFacebookTwitterMailPinterestWhatsappOrhttps://www.archdaily.com/1019034/dr-cosmo-design-story-mixed-use-space-another-d-studio\\n\\nClipboard\\n\\n\\n\\n\\n\\n\\n\\n\\n\\n\"COPY\"\\n\\n\\n\\n\\n\\n\\n\\n\\n\\n\\nCopyMixed Use Architecture, Gallery, Cowork Interiors•Gangnam District, South Korea\\n\\n\\n\\n\\n\\n\\n\\nArchitects: \\nAnother D Studio\\nArea\\nArea of this architecture project\\n\\n\\n\\n\\n\\n\\n\\n\\n\\n\\n\\n\\n\\n\\n\\n\\n\\n\\n\\n\\n\\n\\n\\n\\nArea:\\xa0\\n252 m²\\n\\nYear\\nCompletion year of this architecture project \\n\\n\\n\\n\\n\\n\\n\\n\\n\\n\\n\\n\\n\\n\\n\\n\\n\\n\\n            Year:\\xa0\\n          \\n\\n\\n          2024\\n        \\n\\n\\nPhotographs\\n\\n\\n\\n\\n\\n\\n\\nPhotographs:Donggyu Kim \\n\\n\\n\\n\\n\\n\\nConstruction:\\n              \\n\\nanotherDstudio\\n\\n\\nLead Designers:\\xa0Kyungmin Kim, Seyoung JungCity:\\xa0Gangnam DistrictCountry:\\xa0South KoreaDid you collaborate on this project?More SpecsLess Specs\\nSave this picture!© Donggyu Kim\\nDesign Story - Interior Design is evolving towards an adaptable space that can adapt to meet various purposes. Spaces with high efficiency per unit area can be utilized in multiple ways according to different times and purposes,\\xa0with economic benefits and high productivity.Save this picture!© Donggyu KimSave this picture!PlanSave this picture!© Donggyu KimDr. COSMO’s space actively implements these features to flexibly refine all necessary components without missing\\xa0any aspect.\\xa0The headquarters\\'s cafe and gallery blend into an exhibition space that also serves as a co-working office and photo studio, while a spacious library and speakers integrate into a small performance venue.\\xa0We hope this space will continuously transform into a place where diverse contents are made.Save this picture!© Donggyu KimSave this picture!© Donggyu KimDesign Process - [Brightness Stage: The Stage of Light] -\\xa0As the curtains rise and the play begins, a new story unfolds each time on a stage filled with vibrant lights and\\xa0backgrounds!Save this picture!© Donggyu KimWe have researched to create a space that adapts to various purposes.\\xa0We grouped functional spaces into blocks and arranged them according to circulation flow while conducting simulations for all other elements of the space for different purposes.Save this picture!© Donggyu KimSave this picture!© Donggyu KimThe moving wall creates diversity within the space through its movements, like the stage backdrop. It generates different scenes and new stages depending on the user\\'s use and intent.\\xa0Additionally, the organic shape of the table design ensures versatility to allow it to blend seamlessly into any scene.\\xa0Sometimes serving as a foreground and other times as a background, it expresses the space\\'s functionality through\\xa0its expandability.Save this picture!© Donggyu KimSave this picture!© Donggyu KimThe lighting emphasizes significant scenes, intentionally hides others, and sometimes brightens the entire space.\\xa0In this way, the space functions as a stage that appears the same yet different, with elements moving and changing\\xa0to create scenes that fit the purpose and adapt to the user\\'s needs.Save this picture!© Donggyu Kim\\n\\nProject gallerySee allShow less\\n\\nProject locationAddress:Gangnam District, South KoreaLocation to be used only as a reference. It could indicate city/country but not exact address.\\n\\nShare\\n\\n\\n\\n\\n\\nShareFacebookTwitterMailPinterestWhatsappOrhttps://www.archdaily.com/1019034/dr-cosmo-design-story-mixed-use-space-another-d-studio\\n\\nClipboard\\n\\n\\n\\n\\n\\n\\n\\n\\n\\n\"COPY\"\\n\\n\\n\\n\\n\\n\\n\\n\\n\\n\\nCopyAbout this officeAnother D StudioOffice•••\\n#TagsProjectsBuilt ProjectsSelected ProjectsMixed Use ArchitectureCultural ArchitectureMuseums & ExhibitGalleryInterior DesignOffices InteriorsCowork InteriorsGangnam DistrictSouth KoreaPublished on July 22, 2024Cite:  \"Dr. COSMO Design Story Mixed Use Space / Another D Studio\"  22 Jul 2024. ArchDaily.  Accessed . <https://www.archdaily.com/1019034/dr-cosmo-design-story-mixed-use-space-another-d-studio> ISSN 0719-8884\\n\\n\\n\\n\\n\\n\\n\\n\\n\\n\\n\\n\\n\\n\\n\\n\\n\\n\\n\\n\\n\\n\\n\\n\\n\\n\\n\\n\\n\\n\\n\\n\\n\\n\\n\\n\\n\\n\\n\\n\\n\\n\\n\\n\\n\\n\\n\\n\\n\\n\\n\\n\\n\\n\\n\\n\\n\\n\\n\\n\\n\\n\\n\\n\\n\\n\\n\\n\\n\\n\\n\\n\\n\\n\\n\\nTop #TagsSustainabilityTechnologyMaterialsMetaverse\\n\\n\\n\\n\\n\\n\\n\\n\\n\\n\\n\\n\\n\\n\\n\\n\\n\\n\\n\\n\\n\\n\\n\\n\\n\\n\\n\\n\\n\\n\\n\\n\\n\\n\\n\\n\\n\\n\\n\\n\\n\\n\\n\\n\\n\\n\\n\\n\\n\\n\\n\\n\\n\\n\\n\\n\\n\\n\\n\\n\\n\\n\\n\\n\\n\\n\\n\\n\\n\\n\\n\\n\\n\\n\\n\\n\\nSave世界上最受欢迎的建筑网站现已推出你的母语版本!想浏览ArchDaily中国吗?是否\\n翻译成中文现有为你所在地区特制的网站？想浏览ArchDaily中国吗?Take me there »\\n✖You\\'ve started following your first account!Did you know?You\\'ll now receive updates based on what you follow! Personalize your stream and start following your favorite authors, offices and users.Go to my stream\\n\\n\\n\\n\\n\\n\\n\\n\\n\\n\\n\\n\\n\\n\\n\\n\\n\\n\\n\\n\\n\\n\\n\\n\\n\\n\\n\\n\\n\\n\\n\\n\\n\\n\\n\\n\\n\\n\\n\\n\\n\\n\\n\\n\\n\\n\\n\\n\\n\\n\\n\\n\\n\\n\\n\\n\\n\\n\\n\\n\\n\\n\\n\\n\\n\\n\\n\\n\\n\\n\\n\\n\\n\\n\\n\\n\\n\\n\\nTop #TagsSustainabilityTechnologyMaterialsMetaverse\\n\\n\\n\\n\\n\\n\\n\\n\\n\\n\\n\\n\\n\\n\\n\\n\\n\\n\\n\\n\\n\\n\\n\\n\\n\\n\\n\\n\\n\\n\\n\\n\\n\\n\\n\\n\\n\\n\\n\\n\\n\\n\\n\\n\\n\\n\\n\\n\\n\\n\\n\\n\\n\\n\\n\\n\\n\\n\\n\\n\\n\\n\\n\\n\\n\\n\\n\\n\\n\\n\\n\\n\\n\\n\\n\\n\\n\\n\\n\\n\\n\\n\\n\\n\\n\\n\\n\\n\\n\\n\\n\\n\\n\\n\\n\\n\\n\\n\\n\\n\\n\\n\\n\\n\\n\\n\\n\\n\\n\\n\\n\\n'"
      ]
     },
     "execution_count": 22,
     "metadata": {},
     "output_type": "execute_result"
    }
   ],
   "source": [
    "text"
   ]
  },
  {
   "cell_type": "code",
   "execution_count": 23,
   "metadata": {},
   "outputs": [
    {
     "data": {
      "text/plain": [
       "'Dr. COSMO Design Story Mixed Use Space / Another D Studio | ArchDaily Projects Images Products & BIM Professionals News Videos Submit a Project Advertise Architonic World Brasil Hispanoamérica México 中国 Articles News Interviews Videos City Guides Folders Topics Sustainability Materials Technology What is Good Architecture? Projects Residential Architecture Hospitality Architecture Interior Design Cultural Architecture Public Architecture Landscape & Urbanism Commercial & Offices Educational Architecture Top 100 Project Images Products Applications BIM Construction Materials Equipment Finishes Furniture MEP & HVAC Technology Manufacturers Professionals Architecture Offices Interior Designers Urban Planners Landscape Architects Engineers & Consultants Project Managers Construction Companies Competitions Events Publications Awards Building of the Year Holcim Awards 2023 Pritzker Prize EU Mies Van Der Rohe Award German Design Council Exhibitions World Design Capital Valencia Venice Architecture Biennale Venice Art Biennale Chicago Architecture Biennial © All rights reserved. ArchDaily, part of DAAily platforms AG 2008-2024 ISSN 0719-8884 All images are © each office/photographer mentioned. About Contact Imprint Work at ArchDaily Terms of Use Privacy Policy Cookie Policy RSS Newsletter facebook twitter flickr pinterest instagram vimeo youtube ✕ Projects Images Products BIM Professionals News & Topics Competitions Events About Contact Submit Subscribe Architonic Change country Settings Log out Back News Articles Monthly Topics Refurbishment Top 100 Brasil Hispanoamérica México 中国 Projects Images Products Folders Feed ArchDaily Projects Mixed Use Architecture South Korea Dr. COSMO Design Story Mixed Use Space / Another D Studio Dr. COSMO Design Story Mixed Use Space / Another D StudioSaveSave this picture!© Donggyu Kim+ 17 Curated by Hana Abdel Share ShareFacebookTwitterMailPinterestWhatsappOrhttps://www.archdaily.com/1019034/dr-cosmo-design-story-mixed-use-space-another-d-studio Clipboard \"COPY\" CopyMixed Use Architecture, Gallery, Cowork Interiors•Gangnam District, South Korea Architects: Another D Studio Area Area of this architecture project Area: 252 m² Year Completion year of this architecture project Year: 2024 Photographs Photographs:Donggyu Kim Construction: anotherDstudio Lead Designers: Kyungmin Kim, Seyoung JungCity: Gangnam DistrictCountry: South KoreaDid you collaborate on this project?More SpecsLess Specs Save this picture!© Donggyu Kim Design Story - Interior Design is evolving towards an adaptable space that can adapt to meet various purposes. Spaces with high efficiency per unit area can be utilized in multiple ways according to different times and purposes, with economic benefits and high productivity.Save this picture!© Donggyu KimSave this picture!PlanSave this picture!© Donggyu KimDr. COSMO’s space actively implements these features to flexibly refine all necessary components without missing any aspect. The headquarters\\'s cafe and gallery blend into an exhibition space that also serves as a co-working office and photo studio, while a spacious library and speakers integrate into a small performance venue. We hope this space will continuously transform into a place where diverse contents are made.Save this picture!© Donggyu KimSave this picture!© Donggyu KimDesign Process - [Brightness Stage: The Stage of Light] - As the curtains rise and the play begins, a new story unfolds each time on a stage filled with vibrant lights and backgrounds!Save this picture!© Donggyu KimWe have researched to create a space that adapts to various purposes. We grouped functional spaces into blocks and arranged them according to circulation flow while conducting simulations for all other elements of the space for different purposes.Save this picture!© Donggyu KimSave this picture!© Donggyu KimThe moving wall creates diversity within the space through its movements, like the stage backdrop. It generates different scenes and new stages depending on the user\\'s use and intent. Additionally, the organic shape of the table design ensures versatility to allow it to blend seamlessly into any scene. Sometimes serving as a foreground and other times as a background, it expresses the space\\'s functionality through its expandability.Save this picture!© Donggyu KimSave this picture!© Donggyu KimThe lighting emphasizes significant scenes, intentionally hides others, and sometimes brightens the entire space. In this way, the space functions as a stage that appears the same yet different, with elements moving and changing to create scenes that fit the purpose and adapt to the user\\'s needs.Save this picture!© Donggyu Kim Project gallerySee allShow less Project locationAddress:Gangnam District, South KoreaLocation to be used only as a reference. It could indicate city/country but not exact address. Share ShareFacebookTwitterMailPinterestWhatsappOrhttps://www.archdaily.com/1019034/dr-cosmo-design-story-mixed-use-space-another-d-studio Clipboard \"COPY\" CopyAbout this officeAnother D StudioOffice••• #TagsProjectsBuilt ProjectsSelected ProjectsMixed Use ArchitectureCultural ArchitectureMuseums & ExhibitGalleryInterior DesignOffices InteriorsCowork InteriorsGangnam DistrictSouth KoreaPublished on July 22, 2024Cite: \"Dr. COSMO Design Story Mixed Use Space / Another D Studio\" 22 Jul 2024. ArchDaily. Accessed . <https://www.archdaily.com/1019034/dr-cosmo-design-story-mixed-use-space-another-d-studio> ISSN 0719-8884 Top #TagsSustainabilityTechnologyMaterialsMetaverse Save世界上最受欢迎的建筑网站现已推出你的母语版本!想浏览ArchDaily中国吗?是否 翻译成中文现有为你所在地区特制的网站？想浏览ArchDaily中国吗?Take me there » ✖You\\'ve started following your first account!Did you know?You\\'ll now receive updates based on what you follow! Personalize your stream and start following your favorite authors, offices and users.Go to my stream Top #TagsSustainabilityTechnologyMaterialsMetaverse'"
      ]
     },
     "execution_count": 23,
     "metadata": {},
     "output_type": "execute_result"
    }
   ],
   "source": [
    "processed_text"
   ]
  },
  {
   "cell_type": "code",
   "execution_count": 24,
   "metadata": {},
   "outputs": [
    {
     "name": "stdout",
     "output_type": "stream",
     "text": [
      "처리된 텍스트 (앞부분 500자):\n",
      "Dr. COSMO Design Story Mixed Use Space / Another D Studio |\n",
      "ArchDailyProjectsImagesProducts & BIMProfessionalsNewsVideosSubmit a ProjectAdve\n",
      "rtiseArchitonicWorldBrasilHispanoaméricaMéxico中国ArticlesNewsInterviewsVideosCity\n",
      "GuidesFoldersTopicsSustainabilityMaterialsTechnologyWhat is Good\n",
      "Architecture?ProjectsResidential ArchitectureHospitality ArchitectureInterior\n",
      "DesignCultural ArchitecturePublic ArchitectureLandscape & UrbanismCommercial &\n",
      "OfficesEducational ArchitectureTop 100Project ImagesProdu\n",
      "\n",
      "총 텍스트 길이: 5720\n"
     ]
    }
   ],
   "source": [
    "import requests\n",
    "from bs4 import BeautifulSoup\n",
    "import textwrap\n",
    "\n",
    "# ArchDaily 웹페이지 URL\n",
    "url = \"https://www.archdaily.com/1019034/dr-cosmo-design-story-mixed-use-space-another-d-studio?ad_source=search&ad_medium=projects_tab\"\n",
    "\n",
    "# 웹페이지 내용 가져오기\n",
    "response = requests.get(url)\n",
    "html_content = response.text\n",
    "\n",
    "# BeautifulSoup을 사용하여 HTML 파싱\n",
    "soup = BeautifulSoup(html_content, 'html.parser')\n",
    "\n",
    "# 본문 내용만 추출 (예: 특정 클래스나 ID를 가진 요소)\n",
    "content = soup.find('div', class_='afd-char-content')  # 실제 클래스 이름은 다를 수 있음\n",
    "if content:\n",
    "    text = content.get_text(strip=True)\n",
    "else:\n",
    "    text = soup.get_text(strip=True)\n",
    "\n",
    "# 텍스트 전처리\n",
    "processed_text = ' '.join(text.split())\n",
    "\n",
    "# 텍스트를 여러 줄로 나누어 출력\n",
    "print(\"처리된 텍스트 (앞부분 500자):\")\n",
    "print(textwrap.fill(processed_text[:500], width=80))\n",
    "\n",
    "print(\"\\n총 텍스트 길이:\", len(processed_text))\n",
    "\n",
    "# 키워드 추출 등 추가 작업을 위한 준비\n",
    "# processed_text 변수에 전체 텍스트가 저장되어 있음"
   ]
  },
  {
   "cell_type": "code",
   "execution_count": 26,
   "metadata": {},
   "outputs": [
    {
     "name": "stdout",
     "output_type": "stream",
     "text": [
      "제목: Dr. COSMO Design Story Mixed Use Space / Another D Studio\n",
      "기사 내용을 찾을 수 없습니다.\n"
     ]
    }
   ],
   "source": [
    "import requests\n",
    "from bs4 import BeautifulSoup\n",
    "import textwrap\n",
    "\n",
    "url = \"https://www.archdaily.com/1019034/dr-cosmo-design-story-mixed-use-space-another-d-studio\"\n",
    "\n",
    "response = requests.get(url)\n",
    "soup = BeautifulSoup(response.content, 'html.parser')\n",
    "\n",
    "# 제목 추출\n",
    "title = soup.find('h1', class_='afd-title-big')\n",
    "if title:\n",
    "    print(\"제목:\", title.text.strip())\n",
    "\n",
    "# 기사 본문 추출\n",
    "article_content = soup.find('div', class_='afd-content-wrapper')\n",
    "if article_content:\n",
    "    paragraphs = article_content.find_all('p')\n",
    "    full_text = ' '.join([p.text for p in paragraphs])\n",
    "    \n",
    "    print(\"\\n처리된 텍스트 (앞부분 500자):\")\n",
    "    print(textwrap.fill(full_text[:500], width=80))\n",
    "    print(\"\\n총 텍스트 길이:\", len(full_text))\n",
    "else:\n",
    "    print(\"기사 내용을 찾을 수 없습니다.\")"
   ]
  },
  {
   "cell_type": "markdown",
   "metadata": {},
   "source": [
    "# 웹사이트 HTML 구조 확인"
   ]
  },
  {
   "cell_type": "code",
   "execution_count": null,
   "metadata": {},
   "outputs": [],
   "source": []
  },
  {
   "cell_type": "code",
   "execution_count": 27,
   "metadata": {},
   "outputs": [
    {
     "name": "stdout",
     "output_type": "stream",
     "text": [
      "<!DOCTYPE html>\n",
      "<html lang=\"en-US\">\n",
      " <head>\n",
      "  <script>\n",
      "   window.dataLayer = window.dataLayer || [];\n",
      "// Singles-only - dataLayerAD info\n",
      "window.dataLayer.push({\n",
      "  attributes: {\n",
      "    _io_config: {\n",
      "      page_type: \"article\",\n",
      "      page_language: \"en\",\n",
      "      article_authors: [\"Hana Abdel\"],\n",
      "      article_categories: [\"SELECTED PROJECTS\"],\n",
      "      article_type: \"original\",\n",
      "      article_word_count: \"318\",\n",
      "      article_publication_date: \"Mon, 22 Jul 2024 00:00:00 -0400\"\n",
      "    }\n",
      "  }\n",
      "});\n",
      "\n",
      "(function(w,d,s,l,i){w[l]=w[l]||[];w[l].push({'gtm.start':\n",
      "new Date().getTime(),event:'gtm.js'});var f=d.getElementsByTagName(s)[0],\n",
      "j=d.createElement(s),dl=l!='dataLayer'?'&l='+l:'';j.async=true;j.src=\n",
      "'https://ssa.daaily.com/mtg.js?id='+i+dl;f.parentNode.insertBefore(j,f);\n",
      "})(window,document,'script','dataLayer','GTM-5ZT67ZK');\n",
      "  </script>\n",
      "  <script>\n",
      "   <!-- / Get js site variable -->\n",
      "var Nimrod      = {};\n",
      "Nimrod.site     = \"us\";Nimrod.I18n     = {\"adroll\":{\"local_adroll_adv_id\":\"TFBTLHPGYNHNXB5FCAMHEC\",\"local\n"
     ]
    }
   ],
   "source": [
    "import requests\n",
    "from bs4 import BeautifulSoup\n",
    "\n",
    "url = \"https://www.archdaily.com/1019034/dr-cosmo-design-story-mixed-use-space-another-d-studio\"\n",
    "response = requests.get(url)\n",
    "soup = BeautifulSoup(response.content, 'html.parser')\n",
    "\n",
    "print(soup.prettify()[:1000])  # 처음 1000자만 출력"
   ]
  },
  {
   "cell_type": "markdown",
   "metadata": {},
   "source": [
    "## trafilatura"
   ]
  },
  {
   "cell_type": "code",
   "execution_count": 31,
   "metadata": {},
   "outputs": [
    {
     "name": "stderr",
     "output_type": "stream",
     "text": [
      "[nltk_data] Downloading package punkt to\n",
      "[nltk_data]     C:\\Users\\user\\AppData\\Roaming\\nltk_data...\n",
      "[nltk_data]   Package punkt is already up-to-date!\n",
      "[nltk_data] Downloading package stopwords to\n",
      "[nltk_data]     C:\\Users\\user\\AppData\\Roaming\\nltk_data...\n",
      "[nltk_data]   Package stopwords is already up-to-date!\n"
     ]
    },
    {
     "name": "stdout",
     "output_type": "stream",
     "text": [
      "추출된 텍스트 (앞부분 500자):\n",
      "-\n",
      "Architects: Another D Studio\n",
      "- Area: 252 m²\n",
      "- Year: 2024\n",
      "-\n",
      "Photographs:Donggyu Kim\n",
      "Design Story - Interior Design is evolving towards an adaptable space that can adapt to meet various purposes. Spaces with high efficiency per unit area can be utilized in multiple ways according to different times and purposes, with economic benefits and high productivity.\n",
      "Dr. COSMO’s space actively implements these features to flexibly refine all necessary components without missing any aspect. The headquarters's cafe and gallery blend into an exhibition space that also serves as a co-working office and photo studio, while a spacious library and speakers integrate into a small performance venue. We hope this space will continuously transform into a place where diverse contents are made.\n",
      "Design Process - [Brightness Stage: The Stage of Light] - As the curtains rise and the play begins, a new story unfolds each time on a stage filled with vibrant lights and backgrounds!\n",
      "We have researched to create a space that adapts to various purposes. We grouped functional spaces into blocks and arranged them according to circulation flow while conducting simulations for all other elements of the space for different purposes.\n",
      "The moving wall creates diversity within the space through its movements, like the stage backdrop. It generates different scenes and new stages depending on the user's use and intent. Additionally, the organic shape of the table design ensures versatility to allow it to blend seamlessly into any scene. Sometimes serving as a foreground and other times as a background, it expresses the space's functionality through its expandability.\n",
      "The lighting emphasizes significant scenes, intentionally hides others, and sometimes brightens the entire space. In this way, the space functions as a stage that appears the same yet different, with elements moving and changing to create scenes that fit the purpose and adapt to the user's needs.\n",
      "\n",
      "총 텍스트 길이: 1950\n",
      "\n",
      "추출된 키워드:\n",
      "space: 10\n",
      "stage: 5\n",
      "design: 4\n",
      "purposes: 4\n",
      "different: 4\n",
      "scenes: 3\n",
      "studio: 2\n",
      "area: 2\n",
      "story: 2\n",
      "adapt: 2\n"
     ]
    }
   ],
   "source": [
    "import trafilatura\n",
    "from collections import Counter\n",
    "import nltk\n",
    "from nltk.corpus import stopwords\n",
    "from nltk.tokenize import word_tokenize\n",
    "\n",
    "# NLTK 데이터 다운로드 (처음 실행시 한 번만 필요)\n",
    "nltk.download('punkt')\n",
    "nltk.download('stopwords')\n",
    "\n",
    "def extract_content(url):\n",
    "    downloaded = trafilatura.fetch_url(url)\n",
    "    content = trafilatura.extract(downloaded, include_comments=False, include_links=False)\n",
    "    return content\n",
    "\n",
    "def simple_keyword_extraction(text, top_n=10):\n",
    "    # 텍스트를 토큰화\n",
    "    tokens = word_tokenize(text.lower())\n",
    "    \n",
    "    # 불용어 제거\n",
    "    stop_words = set(stopwords.words('english'))\n",
    "    tokens = [word for word in tokens if word.isalnum() and word not in stop_words]\n",
    "    \n",
    "    # 단어 빈도 계산\n",
    "    word_freq = Counter(tokens)\n",
    "    \n",
    "    # 상위 N개 키워드 추출\n",
    "    keywords = word_freq.most_common(top_n)\n",
    "    \n",
    "    return keywords\n",
    "\n",
    "# 웹페이지 URL\n",
    "url = \"https://www.archdaily.com/1019034/dr-cosmo-design-story-mixed-use-space-another-d-studio\"\n",
    "\n",
    "# 콘텐츠 추출\n",
    "content = extract_content(url)\n",
    "\n",
    "if content:\n",
    "    print(\"추출된 텍스트 (앞부분 500자):\")\n",
    "    print(content[:5000])\n",
    "    print(\"\\n총 텍스트 길이:\", len(content))\n",
    "    \n",
    "    # 키워드 추출\n",
    "    keywords = simple_keyword_extraction(content)\n",
    "    \n",
    "    print(\"\\n추출된 키워드:\")\n",
    "    for word, freq in keywords:\n",
    "        print(f\"{word}: {freq}\")\n",
    "else:\n",
    "    print(\"콘텐츠를 추출할 수 없습니다.\")"
   ]
  },
  {
   "cell_type": "code",
   "execution_count": null,
   "metadata": {},
   "outputs": [],
   "source": []
  },
  {
   "cell_type": "markdown",
   "metadata": {},
   "source": [
    "# gpt 단락"
   ]
  },
  {
   "cell_type": "code",
   "execution_count": 12,
   "metadata": {},
   "outputs": [
    {
     "data": {
      "text/html": [
       "<div>\n",
       "<style scoped>\n",
       "    .dataframe tbody tr th:only-of-type {\n",
       "        vertical-align: middle;\n",
       "    }\n",
       "\n",
       "    .dataframe tbody tr th {\n",
       "        vertical-align: top;\n",
       "    }\n",
       "\n",
       "    .dataframe thead th {\n",
       "        text-align: right;\n",
       "    }\n",
       "</style>\n",
       "<table border=\"1\" class=\"dataframe\">\n",
       "  <thead>\n",
       "    <tr style=\"text-align: right;\">\n",
       "      <th></th>\n",
       "      <th>Paragraph</th>\n",
       "    </tr>\n",
       "  </thead>\n",
       "  <tbody>\n",
       "    <tr>\n",
       "      <th>0</th>\n",
       "      <td>Dr. COSMO Design Story Mixed Use Space / Anoth...</td>\n",
       "    </tr>\n",
       "  </tbody>\n",
       "</table>\n",
       "</div>"
      ],
      "text/plain": [
       "                                           Paragraph\n",
       "0  Dr. COSMO Design Story Mixed Use Space / Anoth..."
      ]
     },
     "metadata": {},
     "output_type": "display_data"
    }
   ],
   "source": [
    "import pandas as pd \n",
    "\n",
    "# 단락으로 나누기\n",
    "paragraphs = processed_text.split('\\n\\n')\n",
    "\n",
    "# 데이터프레임으로 변환\n",
    "df = pd.DataFrame(paragraphs, columns=[\"Paragraph\"])\n",
    "\n",
    "# 데이터프레임 출력\n",
    "display(df)"
   ]
  },
  {
   "cell_type": "code",
   "execution_count": 11,
   "metadata": {},
   "outputs": [
    {
     "data": {
      "text/plain": [
       "['Dr. COSMO Design Story Mixed Use Space / Another D Studio | ArchDaily Projects Images Products & BIM Professionals News Videos Submit a Project Advertise Architonic World Brasil Hispanoamérica México 中国 Articles News Interviews Videos City Guides Folders Topics Sustainability Materials Technology What is Good Architecture? Projects Residential Architecture Hospitality Architecture Interior Design Cultural Architecture Public Architecture Landscape & Urbanism Commercial & Offices Educational Architecture Top 100 Project Images Products Applications BIM Construction Materials Equipment Finishes Furniture MEP & HVAC Technology Manufacturers Professionals Architecture Offices Interior Designers Urban Planners Landscape Architects Engineers & Consultants Project Managers Construction Companies Competitions Events Publications Awards Building of the Year Holcim Awards 2023 Pritzker Prize EU Mies Van Der Rohe Award German Design Council Exhibitions World Design Capital Valencia Venice Architecture Biennale Venice Art Biennale Chicago Architecture Biennial © All rights reserved. ArchDaily, part of DAAily platforms AG 2008-2024 ISSN 0719-8884 All images are © each office/photographer mentioned. About Contact Imprint Work at ArchDaily Terms of Use Privacy Policy Cookie Policy RSS Newsletter facebook twitter flickr pinterest instagram vimeo youtube ✕ Projects Images Products BIM Professionals News & Topics Competitions Events About Contact Submit Subscribe Architonic Change country Settings Log out Back News Articles Monthly Topics Refurbishment Top 100 Brasil Hispanoamérica México 中国 Projects Images Products Folders Feed ArchDaily Projects Mixed Use Architecture South Korea Dr. COSMO Design Story Mixed Use Space / Another D Studio Dr. COSMO Design Story Mixed Use Space / Another D StudioSaveSave this picture!© Donggyu Kim+ 17 Curated by Hana Abdel Share ShareFacebookTwitterMailPinterestWhatsappOrhttps://www.archdaily.com/1019034/dr-cosmo-design-story-mixed-use-space-another-d-studio Clipboard \"COPY\" CopyMixed Use Architecture, Gallery, Cowork Interiors•Gangnam District, South Korea Architects: Another D Studio Area Area of this architecture project Area: 252 m² Year Completion year of this architecture project Year: 2024 Photographs Photographs:Donggyu Kim Construction: anotherDstudio Lead Designers: Kyungmin Kim, Seyoung JungCity: Gangnam DistrictCountry: South KoreaDid you collaborate on this project?More SpecsLess Specs Save this picture!© Donggyu Kim Design Story - Interior Design is evolving towards an adaptable space that can adapt to meet various purposes. Spaces with high efficiency per unit area can be utilized in multiple ways according to different times and purposes, with economic benefits and high productivity.Save this picture!© Donggyu KimSave this picture!PlanSave this picture!© Donggyu KimDr. COSMO’s space actively implements these features to flexibly refine all necessary components without missing any aspect. The headquarters\\'s cafe and gallery blend into an exhibition space that also serves as a co-working office and photo studio, while a spacious library and speakers integrate into a small performance venue. We hope this space will continuously transform into a place where diverse contents are made.Save this picture!© Donggyu KimSave this picture!© Donggyu KimDesign Process - [Brightness Stage: The Stage of Light] - As the curtains rise and the play begins, a new story unfolds each time on a stage filled with vibrant lights and backgrounds!Save this picture!© Donggyu KimWe have researched to create a space that adapts to various purposes. We grouped functional spaces into blocks and arranged them according to circulation flow while conducting simulations for all other elements of the space for different purposes.Save this picture!© Donggyu KimSave this picture!© Donggyu KimThe moving wall creates diversity within the space through its movements, like the stage backdrop. It generates different scenes and new stages depending on the user\\'s use and intent. Additionally, the organic shape of the table design ensures versatility to allow it to blend seamlessly into any scene. Sometimes serving as a foreground and other times as a background, it expresses the space\\'s functionality through its expandability.Save this picture!© Donggyu KimSave this picture!© Donggyu KimThe lighting emphasizes significant scenes, intentionally hides others, and sometimes brightens the entire space. In this way, the space functions as a stage that appears the same yet different, with elements moving and changing to create scenes that fit the purpose and adapt to the user\\'s needs.Save this picture!© Donggyu Kim Project gallerySee allShow less Project locationAddress:Gangnam District, South KoreaLocation to be used only as a reference. It could indicate city/country but not exact address. Share ShareFacebookTwitterMailPinterestWhatsappOrhttps://www.archdaily.com/1019034/dr-cosmo-design-story-mixed-use-space-another-d-studio Clipboard \"COPY\" CopyAbout this officeAnother D StudioOffice••• #TagsProjectsBuilt ProjectsSelected ProjectsMixed Use ArchitectureCultural ArchitectureMuseums & ExhibitGalleryInterior DesignOffices InteriorsCowork InteriorsGangnam DistrictSouth KoreaPublished on July 22, 2024Cite: \"Dr. COSMO Design Story Mixed Use Space / Another D Studio\" 22 Jul 2024. ArchDaily. Accessed . <https://www.archdaily.com/1019034/dr-cosmo-design-story-mixed-use-space-another-d-studio> ISSN 0719-8884 Top #TagsSustainabilityTechnologyMaterialsMetaverse Save世界上最受欢迎的建筑网站现已推出你的母语版本!想浏览ArchDaily中国吗?是否 翻译成中文现有为你所在地区特制的网站？想浏览ArchDaily中国吗?Take me there » ✖You\\'ve started following your first account!Did you know?You\\'ll now receive updates based on what you follow! Personalize your stream and start following your favorite authors, offices and users.Go to my stream Top #TagsSustainabilityTechnologyMaterialsMetaverse']"
      ]
     },
     "execution_count": 11,
     "metadata": {},
     "output_type": "execute_result"
    }
   ],
   "source": [
    "paragraphs"
   ]
  },
  {
   "cell_type": "code",
   "execution_count": 13,
   "metadata": {},
   "outputs": [
    {
     "data": {
      "text/html": [
       "<div>\n",
       "<style scoped>\n",
       "    .dataframe tbody tr th:only-of-type {\n",
       "        vertical-align: middle;\n",
       "    }\n",
       "\n",
       "    .dataframe tbody tr th {\n",
       "        vertical-align: top;\n",
       "    }\n",
       "\n",
       "    .dataframe thead th {\n",
       "        text-align: right;\n",
       "    }\n",
       "</style>\n",
       "<table border=\"1\" class=\"dataframe\">\n",
       "  <thead>\n",
       "    <tr style=\"text-align: right;\">\n",
       "      <th></th>\n",
       "      <th>Paragraph</th>\n",
       "    </tr>\n",
       "  </thead>\n",
       "  <tbody>\n",
       "    <tr>\n",
       "      <th>0</th>\n",
       "      <td>\\nProjects\\n</td>\n",
       "    </tr>\n",
       "    <tr>\n",
       "      <th>1</th>\n",
       "      <td>\\nImages\\n</td>\n",
       "    </tr>\n",
       "    <tr>\n",
       "      <th>2</th>\n",
       "      <td>\\nProducts\\n</td>\n",
       "    </tr>\n",
       "    <tr>\n",
       "      <th>3</th>\n",
       "      <td>\\nFolders\\n</td>\n",
       "    </tr>\n",
       "    <tr>\n",
       "      <th>4</th>\n",
       "      <td>\\nFeed\\n</td>\n",
       "    </tr>\n",
       "    <tr>\n",
       "      <th>5</th>\n",
       "      <td></td>\n",
       "    </tr>\n",
       "    <tr>\n",
       "      <th>6</th>\n",
       "      <td>+ 17</td>\n",
       "    </tr>\n",
       "    <tr>\n",
       "      <th>7</th>\n",
       "      <td>Design Story - Interior Design is evolving tow...</td>\n",
       "    </tr>\n",
       "    <tr>\n",
       "      <th>8</th>\n",
       "      <td>Design Story - Interior Design is evolving tow...</td>\n",
       "    </tr>\n",
       "    <tr>\n",
       "      <th>9</th>\n",
       "      <td>Dr. COSMO’s space actively implements these fe...</td>\n",
       "    </tr>\n",
       "    <tr>\n",
       "      <th>10</th>\n",
       "      <td>Dr. COSMO’s space actively implements these fe...</td>\n",
       "    </tr>\n",
       "    <tr>\n",
       "      <th>11</th>\n",
       "      <td>Design Process - [Brightness Stage: The Stage ...</td>\n",
       "    </tr>\n",
       "    <tr>\n",
       "      <th>12</th>\n",
       "      <td>Design Process - [Brightness Stage: The Stage ...</td>\n",
       "    </tr>\n",
       "    <tr>\n",
       "      <th>13</th>\n",
       "      <td>We have researched to create a space that adap...</td>\n",
       "    </tr>\n",
       "    <tr>\n",
       "      <th>14</th>\n",
       "      <td>We have researched to create a space that adap...</td>\n",
       "    </tr>\n",
       "    <tr>\n",
       "      <th>15</th>\n",
       "      <td>The moving wall creates diversity within the s...</td>\n",
       "    </tr>\n",
       "    <tr>\n",
       "      <th>16</th>\n",
       "      <td>The moving wall creates diversity within the s...</td>\n",
       "    </tr>\n",
       "    <tr>\n",
       "      <th>17</th>\n",
       "      <td>The lighting emphasizes significant scenes, in...</td>\n",
       "    </tr>\n",
       "    <tr>\n",
       "      <th>18</th>\n",
       "      <td>The lighting emphasizes significant scenes, in...</td>\n",
       "    </tr>\n",
       "    <tr>\n",
       "      <th>19</th>\n",
       "      <td>You'll now receive updates based on what you f...</td>\n",
       "    </tr>\n",
       "  </tbody>\n",
       "</table>\n",
       "</div>"
      ],
      "text/plain": [
       "                                            Paragraph\n",
       "0                                        \\nProjects\\n\n",
       "1                                          \\nImages\\n\n",
       "2                                        \\nProducts\\n\n",
       "3                                         \\nFolders\\n\n",
       "4                                            \\nFeed\\n\n",
       "5                                                    \n",
       "6                                                + 17\n",
       "7   Design Story - Interior Design is evolving tow...\n",
       "8   Design Story - Interior Design is evolving tow...\n",
       "9   Dr. COSMO’s space actively implements these fe...\n",
       "10  Dr. COSMO’s space actively implements these fe...\n",
       "11  Design Process - [Brightness Stage: The Stage ...\n",
       "12  Design Process - [Brightness Stage: The Stage ...\n",
       "13  We have researched to create a space that adap...\n",
       "14  We have researched to create a space that adap...\n",
       "15  The moving wall creates diversity within the s...\n",
       "16  The moving wall creates diversity within the s...\n",
       "17  The lighting emphasizes significant scenes, in...\n",
       "18  The lighting emphasizes significant scenes, in...\n",
       "19  You'll now receive updates based on what you f..."
      ]
     },
     "metadata": {},
     "output_type": "display_data"
    }
   ],
   "source": [
    "# 텍스트를 단락으로 나누기 위해 p 태그 기준으로 추출\n",
    "paragraphs = [p.get_text() for p in soup.find_all('p')]\n",
    "\n",
    "# 데이터프레임으로 변환\n",
    "df = pd.DataFrame(paragraphs, columns=[\"Paragraph\"])\n",
    "\n",
    "# 데이터프레임 출력\n",
    "display(df)"
   ]
  },
  {
   "cell_type": "code",
   "execution_count": 15,
   "metadata": {},
   "outputs": [
    {
     "data": {
      "text/html": [
       "<p>\n",
       "Projects\n",
       "</p><p>\n",
       "Images\n",
       "</p><p>\n",
       "Products\n",
       "</p><p>\n",
       "Folders\n",
       "</p><p>\n",
       "Feed\n",
       "</p><p></p><p>+ 17</p><p>Design Story - Interior Design is evolving towards an adaptable space that can adapt to meet various purposes. Spaces with high efficiency per unit area can be utilized in multiple ways according to different times and purposes, with economic benefits and high productivity.</p><p>Design Story - Interior Design is evolving towards an adaptable space that can adapt to meet various purposes. Spaces with high efficiency per unit area can be utilized in multiple ways according to different times and purposes, with economic benefits and high productivity.</p><p>Dr. COSMO’s space actively implements these features to flexibly refine all necessary components without missing any aspect. The headquarters's cafe and gallery blend into an exhibition space that also serves as a co-working office and photo studio, while a spacious library and speakers integrate into a small performance venue. We hope this space will continuously transform into a place where diverse contents are made.</p><p>Dr. COSMO’s space actively implements these features to flexibly refine all necessary components without missing any aspect. The headquarters's cafe and gallery blend into an exhibition space that also serves as a co-working office and photo studio, while a spacious library and speakers integrate into a small performance venue. We hope this space will continuously transform into a place where diverse contents are made.</p><p>Design Process - [Brightness Stage: The Stage of Light] - As the curtains rise and the play begins, a new story unfolds each time on a stage filled with vibrant lights and backgrounds!</p><p>Design Process - [Brightness Stage: The Stage of Light] - As the curtains rise and the play begins, a new story unfolds each time on a stage filled with vibrant lights and backgrounds!</p><p>We have researched to create a space that adapts to various purposes. We grouped functional spaces into blocks and arranged them according to circulation flow while conducting simulations for all other elements of the space for different purposes.</p><p>We have researched to create a space that adapts to various purposes. We grouped functional spaces into blocks and arranged them according to circulation flow while conducting simulations for all other elements of the space for different purposes.</p><p>The moving wall creates diversity within the space through its movements, like the stage backdrop. It generates different scenes and new stages depending on the user's use and intent. Additionally, the organic shape of the table design ensures versatility to allow it to blend seamlessly into any scene. Sometimes serving as a foreground and other times as a background, it expresses the space's functionality through its expandability.</p><p>The moving wall creates diversity within the space through its movements, like the stage backdrop. It generates different scenes and new stages depending on the user's use and intent. Additionally, the organic shape of the table design ensures versatility to allow it to blend seamlessly into any scene. Sometimes serving as a foreground and other times as a background, it expresses the space's functionality through its expandability.</p><p>The lighting emphasizes significant scenes, intentionally hides others, and sometimes brightens the entire space. In this way, the space functions as a stage that appears the same yet different, with elements moving and changing to create scenes that fit the purpose and adapt to the user's needs.</p><p>The lighting emphasizes significant scenes, intentionally hides others, and sometimes brightens the entire space. In this way, the space functions as a stage that appears the same yet different, with elements moving and changing to create scenes that fit the purpose and adapt to the user's needs.</p><p>You'll now receive updates based on what you follow! Personalize your stream and start following your favorite authors, offices and users.</p>"
      ],
      "text/plain": [
       "<IPython.core.display.HTML object>"
      ]
     },
     "metadata": {},
     "output_type": "display_data"
    }
   ],
   "source": [
    "from IPython.display import display, HTML\n",
    "# 본문 내용을 단락으로 나누기\n",
    "paragraphs = [p.get_text() for p in soup.find_all('p')]\n",
    "\n",
    "# HTML 형식으로 본문 내용을 포맷팅\n",
    "html_paragraphs = ''.join([f\"<p>{paragraph}</p>\" for paragraph in paragraphs])\n",
    "\n",
    "# 주피터 노트북에서 HTML로 출력\n",
    "display(HTML(html_paragraphs))"
   ]
  },
  {
   "cell_type": "code",
   "execution_count": 17,
   "metadata": {},
   "outputs": [
    {
     "data": {
      "text/html": [
       "<p>ProjectsImagesProducts & BIMProfessionalsNewsVideosSubmit a ProjectAdvertiseArchitonicWorldBrasilHispanoaméricaMéxico中国ArticlesNewsInterviewsVideosCity GuidesFoldersTopicsSustainabilityMaterialsTechnologyWhat is Good Architecture?ProjectsResidential ArchitectureHospitality ArchitectureInterior DesignCultural ArchitecturePublic ArchitectureLandscape & UrbanismCommercial & OfficesEducational ArchitectureTop 100Project ImagesProductsApplicationsBIMConstruction MaterialsEquipmentFinishesFurnitureMEP & HVACTechnologyManufacturersProfessionalsArchitecture OfficesInterior DesignersUrban PlannersLandscape ArchitectsEngineers & ConsultantsProject ManagersConstruction CompaniesCompetitionsEventsPublicationsAwardsBuilding of the YearHolcim Awards 2023Pritzker PrizeEU Mies Van Der Rohe AwardGerman Design CouncilExhibitionsWorld Design Capital ValenciaVenice Architecture BiennaleVenice Art BiennaleChicago Architecture Biennial© All rights reserved. ArchDaily, part of DAAily platforms AG 2008-2024ISSN 0719-8884All images are © each office/photographer mentioned.AboutContactImprintWork at ArchDailyTerms of UsePrivacy PolicyCookie PolicyRSSNewsletterfacebooktwitterflickrpinterestinstagramvimeoyoutube</p><p>Submit a ProjectAdvertiseArchitonicWorldBrasilHispanoaméricaMéxico中国ArticlesNewsInterviewsVideosCity GuidesFoldersTopicsSustainabilityMaterialsTechnologyWhat is Good Architecture?ProjectsResidential ArchitectureHospitality ArchitectureInterior DesignCultural ArchitecturePublic ArchitectureLandscape & UrbanismCommercial & OfficesEducational ArchitectureTop 100Project ImagesProductsApplicationsBIMConstruction MaterialsEquipmentFinishesFurnitureMEP & HVACTechnologyManufacturersProfessionalsArchitecture OfficesInterior DesignersUrban PlannersLandscape ArchitectsEngineers & ConsultantsProject ManagersConstruction CompaniesCompetitionsEventsPublicationsAwardsBuilding of the YearHolcim Awards 2023Pritzker PrizeEU Mies Van Der Rohe AwardGerman Design CouncilExhibitionsWorld Design Capital ValenciaVenice Architecture BiennaleVenice Art BiennaleChicago Architecture Biennial© All rights reserved. ArchDaily, part of DAAily platforms AG 2008-2024ISSN 0719-8884All images are © each office/photographer mentioned.AboutContactImprintWork at ArchDailyTerms of UsePrivacy PolicyCookie PolicyRSSNewsletterfacebooktwitterflickrpinterestinstagramvimeoyoutube</p><p>Submit a ProjectAdvertiseArchitonicWorldBrasilHispanoaméricaMéxico中国</p><p>WorldBrasilHispanoaméricaMéxico中国</p><p>© All rights reserved. ArchDaily, part of DAAily platforms AG 2008-2024ISSN 0719-8884All images are © each office/photographer mentioned.AboutContactImprintWork at ArchDailyTerms of UsePrivacy PolicyCookie PolicyRSSNewsletterfacebooktwitterflickrpinterestinstagramvimeoyoutube</p><p>© All rights reserved. ArchDaily, part of DAAily platforms AG 2008-2024ISSN 0719-8884All images are © each office/photographer mentioned.</p><p>✕ProjectsImagesProductsBIMProfessionalsNews & TopicsCompetitionsEventsAboutContactSubmitSubscribeArchitonicChange countrySettingsLog out</p><p>ProjectsImagesProductsBIMProfessionalsNews & TopicsCompetitionsEvents</p><p>AboutContactSubmitSubscribeArchitonic</p><p>BackNewsArticlesMonthly TopicsRefurbishmentTop 100BrasilHispanoaméricaMéxico中国</p><p>ProjectsImagesProductsFoldersFeed</p><p>ArchDailyProjectsMixed Use ArchitectureSouth KoreaDr. COSMO Design Story Mixed Use Space / Another D StudioDr. COSMO Design Story Mixed Use Space / Another D StudioSaveSave this picture!© Donggyu Kim+ 17Curated byHana AbdelShareShareFacebookTwitterMailPinterestWhatsappOrhttps://www.archdaily.com/1019034/dr-cosmo-design-story-mixed-use-space-another-d-studioClipboard\"COPY\"CopyMixed Use Architecture,Gallery,Cowork Interiors•Gangnam District,South KoreaArchitects:Another D StudioAreaArea of this architecture projectArea:252m²YearCompletion year of this architecture projectYear:2024PhotographsPhotographs:Donggyu KimConstruction:anotherDstudioLead Designers:Kyungmin Kim, Seyoung JungCity:Gangnam DistrictCountry:South KoreaDid you collaborate on this project?More SpecsLess SpecsSave this picture!© Donggyu KimDesign Story -Interior Design is evolving towards an adaptable space that can adapt to meet various purposes. Spaces with high efficiency per unit area can be utilized in multiple ways according to different times and purposes, with economic benefits and high productivity.Save this picture!© Donggyu KimSave this picture!PlanSave this picture!© Donggyu KimDr. COSMO’s space actively implements these features to flexibly refine all necessary components without missing any aspect. The headquarters's cafe and gallery blend into an exhibition space that also serves as a co-working office and photo studio, while a spacious library and speakers integrate into a small performance venue. We hope this space will continuously transform into a place where diverse contents are made.Save this picture!© Donggyu KimSave this picture!© Donggyu KimDesign Process -[Brightness Stage: The Stage of Light] -As the curtains rise and the play begins, a new story unfolds each time on a stage filled with vibrant lights and backgrounds!Save this picture!© Donggyu KimWe have researched to create a space that adapts to various purposes. We grouped functional spaces into blocks and arranged them according to circulation flow while conducting simulations for all other elements of the space for different purposes.Save this picture!© Donggyu KimSave this picture!© Donggyu KimThe moving wall creates diversity within the space through its movements, like the stage backdrop. It generates different scenes and new stages depending on the user's use and intent. Additionally, the organic shape of the table design ensures versatility to allow it to blend seamlessly into any scene. Sometimes serving as a foreground and other times as a background, it expresses the space's functionality through its expandability.Save this picture!© Donggyu KimSave this picture!© Donggyu KimThe lighting emphasizes significant scenes, intentionally hides others, and sometimes brightens the entire space. In this way, the space functions as a stage that appears the same yet different, with elements moving and changing to create scenes that fit the purpose and adapt to the user's needs.Save this picture!© Donggyu KimProject gallerySee allShow lessProject locationAddress:Gangnam District, South KoreaLocation to be used only as a reference. It could indicate city/country but not exact address.ShareShareFacebookTwitterMailPinterestWhatsappOrhttps://www.archdaily.com/1019034/dr-cosmo-design-story-mixed-use-space-another-d-studioClipboard\"COPY\"CopyAbout this officeAnother D StudioOffice•••#TagsProjectsBuilt ProjectsSelected ProjectsMixed Use ArchitectureCultural ArchitectureMuseums & ExhibitGalleryInterior DesignOffices InteriorsCowork InteriorsGangnam DistrictSouth KoreaPublished on July 22, 2024Cite:\"Dr. COSMO Design Story Mixed Use Space / Another D Studio\"  22 Jul 2024.ArchDaily.  Accessed. <https://www.archdaily.com/1019034/dr-cosmo-design-story-mixed-use-space-another-d-studio> ISSN 0719-8884Top #TagsSustainabilityTechnologyMaterialsMetaverseSave世界上最受欢迎的建筑网站现已推出你的母语版本!想浏览ArchDaily中国吗?是否翻译成中文现有为你所在地区特制的网站？想浏览ArchDaily中国吗?Take me there »✖You've started following your first account!Did you know?You'll now receive updates based on what you follow! Personalize your stream and start following your favorite authors, offices and users.Go to my streamTop #TagsSustainabilityTechnologyMaterialsMetaverse</p><p>ArchDailyProjectsMixed Use ArchitectureSouth KoreaDr. COSMO Design Story Mixed Use Space / Another D StudioDr. COSMO Design Story Mixed Use Space / Another D StudioSaveSave this picture!© Donggyu Kim+ 17Curated byHana AbdelShareShareFacebookTwitterMailPinterestWhatsappOrhttps://www.archdaily.com/1019034/dr-cosmo-design-story-mixed-use-space-another-d-studioClipboard\"COPY\"CopyMixed Use Architecture,Gallery,Cowork Interiors•Gangnam District,South KoreaArchitects:Another D StudioAreaArea of this architecture projectArea:252m²YearCompletion year of this architecture projectYear:2024PhotographsPhotographs:Donggyu KimConstruction:anotherDstudioLead Designers:Kyungmin Kim, Seyoung JungCity:Gangnam DistrictCountry:South KoreaDid you collaborate on this project?More SpecsLess SpecsSave this picture!© Donggyu KimDesign Story -Interior Design is evolving towards an adaptable space that can adapt to meet various purposes. Spaces with high efficiency per unit area can be utilized in multiple ways according to different times and purposes, with economic benefits and high productivity.Save this picture!© Donggyu KimSave this picture!PlanSave this picture!© Donggyu KimDr. COSMO’s space actively implements these features to flexibly refine all necessary components without missing any aspect. The headquarters's cafe and gallery blend into an exhibition space that also serves as a co-working office and photo studio, while a spacious library and speakers integrate into a small performance venue. We hope this space will continuously transform into a place where diverse contents are made.Save this picture!© Donggyu KimSave this picture!© Donggyu KimDesign Process -[Brightness Stage: The Stage of Light] -As the curtains rise and the play begins, a new story unfolds each time on a stage filled with vibrant lights and backgrounds!Save this picture!© Donggyu KimWe have researched to create a space that adapts to various purposes. We grouped functional spaces into blocks and arranged them according to circulation flow while conducting simulations for all other elements of the space for different purposes.Save this picture!© Donggyu KimSave this picture!© Donggyu KimThe moving wall creates diversity within the space through its movements, like the stage backdrop. It generates different scenes and new stages depending on the user's use and intent. Additionally, the organic shape of the table design ensures versatility to allow it to blend seamlessly into any scene. Sometimes serving as a foreground and other times as a background, it expresses the space's functionality through its expandability.Save this picture!© Donggyu KimSave this picture!© Donggyu KimThe lighting emphasizes significant scenes, intentionally hides others, and sometimes brightens the entire space. In this way, the space functions as a stage that appears the same yet different, with elements moving and changing to create scenes that fit the purpose and adapt to the user's needs.Save this picture!© Donggyu KimProject gallerySee allShow lessProject locationAddress:Gangnam District, South KoreaLocation to be used only as a reference. It could indicate city/country but not exact address.ShareShareFacebookTwitterMailPinterestWhatsappOrhttps://www.archdaily.com/1019034/dr-cosmo-design-story-mixed-use-space-another-d-studioClipboard\"COPY\"CopyAbout this officeAnother D StudioOffice•••#TagsProjectsBuilt ProjectsSelected ProjectsMixed Use ArchitectureCultural ArchitectureMuseums & ExhibitGalleryInterior DesignOffices InteriorsCowork InteriorsGangnam DistrictSouth KoreaPublished on July 22, 2024Cite:\"Dr. COSMO Design Story Mixed Use Space / Another D Studio\"  22 Jul 2024.ArchDaily.  Accessed. <https://www.archdaily.com/1019034/dr-cosmo-design-story-mixed-use-space-another-d-studio> ISSN 0719-8884Top #TagsSustainabilityTechnologyMaterialsMetaverseSave世界上最受欢迎的建筑网站现已推出你的母语版本!想浏览ArchDaily中国吗?是否翻译成中文现有为你所在地区特制的网站？想浏览ArchDaily中国吗?Take me there »✖You've started following your first account!Did you know?You'll now receive updates based on what you follow! Personalize your stream and start following your favorite authors, offices and users.Go to my stream</p><p>ArchDailyProjectsMixed Use ArchitectureSouth KoreaDr. COSMO Design Story Mixed Use Space / Another D Studio</p><p>Save this picture!© Donggyu Kim+ 17Curated byHana AbdelShareShareFacebookTwitterMailPinterestWhatsappOrhttps://www.archdaily.com/1019034/dr-cosmo-design-story-mixed-use-space-another-d-studioClipboard\"COPY\"CopyMixed Use Architecture,Gallery,Cowork Interiors•Gangnam District,South KoreaArchitects:Another D StudioAreaArea of this architecture projectArea:252m²YearCompletion year of this architecture projectYear:2024PhotographsPhotographs:Donggyu KimConstruction:anotherDstudioLead Designers:Kyungmin Kim, Seyoung JungCity:Gangnam DistrictCountry:South KoreaDid you collaborate on this project?More SpecsLess SpecsSave this picture!© Donggyu KimDesign Story -Interior Design is evolving towards an adaptable space that can adapt to meet various purposes. Spaces with high efficiency per unit area can be utilized in multiple ways according to different times and purposes, with economic benefits and high productivity.Save this picture!© Donggyu KimSave this picture!PlanSave this picture!© Donggyu KimDr. COSMO’s space actively implements these features to flexibly refine all necessary components without missing any aspect. The headquarters's cafe and gallery blend into an exhibition space that also serves as a co-working office and photo studio, while a spacious library and speakers integrate into a small performance venue. We hope this space will continuously transform into a place where diverse contents are made.Save this picture!© Donggyu KimSave this picture!© Donggyu KimDesign Process -[Brightness Stage: The Stage of Light] -As the curtains rise and the play begins, a new story unfolds each time on a stage filled with vibrant lights and backgrounds!Save this picture!© Donggyu KimWe have researched to create a space that adapts to various purposes. We grouped functional spaces into blocks and arranged them according to circulation flow while conducting simulations for all other elements of the space for different purposes.Save this picture!© Donggyu KimSave this picture!© Donggyu KimThe moving wall creates diversity within the space through its movements, like the stage backdrop. It generates different scenes and new stages depending on the user's use and intent. Additionally, the organic shape of the table design ensures versatility to allow it to blend seamlessly into any scene. Sometimes serving as a foreground and other times as a background, it expresses the space's functionality through its expandability.Save this picture!© Donggyu KimSave this picture!© Donggyu KimThe lighting emphasizes significant scenes, intentionally hides others, and sometimes brightens the entire space. In this way, the space functions as a stage that appears the same yet different, with elements moving and changing to create scenes that fit the purpose and adapt to the user's needs.Save this picture!© Donggyu Kim</p><p>Curated byHana AbdelShareShareFacebookTwitterMailPinterestWhatsappOrhttps://www.archdaily.com/1019034/dr-cosmo-design-story-mixed-use-space-another-d-studioClipboard\"COPY\"Copy</p><p>ShareShareFacebookTwitterMailPinterestWhatsappOrhttps://www.archdaily.com/1019034/dr-cosmo-design-story-mixed-use-space-another-d-studioClipboard\"COPY\"Copy</p><p>FacebookTwitterMailPinterestWhatsappOrhttps://www.archdaily.com/1019034/dr-cosmo-design-story-mixed-use-space-another-d-studioClipboard\"COPY\"Copy</p><p>https://www.archdaily.com/1019034/dr-cosmo-design-story-mixed-use-space-another-d-studioClipboard\"COPY\"Copy</p><p>Mixed Use Architecture,Gallery,Cowork Interiors•Gangnam District,South KoreaArchitects:Another D StudioAreaArea of this architecture projectArea:252m²YearCompletion year of this architecture projectYear:2024PhotographsPhotographs:Donggyu KimConstruction:anotherDstudio</p><p>Mixed Use Architecture,Gallery,Cowork Interiors•Gangnam District,South Korea</p><p>Mixed Use Architecture,Gallery,Cowork Interiors</p><p>Gangnam District,South Korea</p><p>Architects:Another D Studio</p><p>Photographs:Donggyu Kim</p><p>Construction:anotherDstudio</p><p>Lead Designers:Kyungmin Kim, Seyoung JungCity:Gangnam DistrictCountry:South KoreaDid you collaborate on this project?</p><p>Lead Designers:Kyungmin Kim, Seyoung Jung</p><p>City:Gangnam District</p><p>Did you collaborate on this project?</p><p>Design Story -Interior Design is evolving towards an adaptable space that can adapt to meet various purposes. Spaces with high efficiency per unit area can be utilized in multiple ways according to different times and purposes, with economic benefits and high productivity.</p><p>Dr. COSMO’s space actively implements these features to flexibly refine all necessary components without missing any aspect. The headquarters's cafe and gallery blend into an exhibition space that also serves as a co-working office and photo studio, while a spacious library and speakers integrate into a small performance venue. We hope this space will continuously transform into a place where diverse contents are made.</p><p>Design Process -[Brightness Stage: The Stage of Light] -As the curtains rise and the play begins, a new story unfolds each time on a stage filled with vibrant lights and backgrounds!</p><p>We have researched to create a space that adapts to various purposes. We grouped functional spaces into blocks and arranged them according to circulation flow while conducting simulations for all other elements of the space for different purposes.</p><p>The moving wall creates diversity within the space through its movements, like the stage backdrop. It generates different scenes and new stages depending on the user's use and intent. Additionally, the organic shape of the table design ensures versatility to allow it to blend seamlessly into any scene. Sometimes serving as a foreground and other times as a background, it expresses the space's functionality through its expandability.</p><p>The lighting emphasizes significant scenes, intentionally hides others, and sometimes brightens the entire space. In this way, the space functions as a stage that appears the same yet different, with elements moving and changing to create scenes that fit the purpose and adapt to the user's needs.</p><p>About this officeAnother D StudioOffice•••</p><p>Another D StudioOffice•••</p><p>Another D StudioOffice</p><p>#TagsProjectsBuilt ProjectsSelected ProjectsMixed Use ArchitectureCultural ArchitectureMuseums & ExhibitGalleryInterior DesignOffices InteriorsCowork InteriorsGangnam DistrictSouth Korea</p><p>ProjectsBuilt ProjectsSelected ProjectsMixed Use ArchitectureCultural ArchitectureMuseums & ExhibitGalleryInterior DesignOffices InteriorsCowork InteriorsGangnam DistrictSouth Korea</p><p>Published on July 22, 2024</p><p>Top #TagsSustainabilityTechnologyMaterialsMetaverse</p><p>世界上最受欢迎的建筑网站现已推出你的母语版本!想浏览ArchDaily中国吗?是否</p><p>翻译成中文现有为你所在地区特制的网站？想浏览ArchDaily中国吗?Take me there »</p><p>✖You've started following your first account!Did you know?You'll now receive updates based on what you follow! Personalize your stream and start following your favorite authors, offices and users.Go to my stream</p><p>✖You've started following your first account!</p><p>Did you know?You'll now receive updates based on what you follow! Personalize your stream and start following your favorite authors, offices and users.Go to my stream</p><p>You'll now receive updates based on what you follow! Personalize your stream and start following your favorite authors, offices and users.</p>"
      ],
      "text/plain": [
       "<IPython.core.display.HTML object>"
      ]
     },
     "metadata": {},
     "output_type": "display_data"
    }
   ],
   "source": [
    "# 웹사이트 내용 가져오기\n",
    "# url = \"https://example.com\"\n",
    "response = requests.get(url)\n",
    "html_content = response.text\n",
    "\n",
    "# BeautifulSoup을 사용하여 HTML 파싱\n",
    "soup = BeautifulSoup(html_content, 'html.parser')\n",
    "\n",
    "# 본문 내용을 특정 태그 기준으로 추출\n",
    "content = soup.find_all(['p', 'div', 'article'])\n",
    "\n",
    "# 추출한 내용을 필터링하여 텍스트로 변환 및 중복 제거\n",
    "paragraphs = []\n",
    "seen_texts = set()\n",
    "\n",
    "for tag in content:\n",
    "    text = tag.get_text(strip=True)\n",
    "    if len(text) > 20 and not text.isupper() and text not in seen_texts:\n",
    "        paragraphs.append(text)\n",
    "        seen_texts.add(text)\n",
    "\n",
    "# HTML 형식으로 본문 내용을 포맷팅\n",
    "html_paragraphs = ''.join([f\"<p>{paragraph}</p>\" for paragraph in paragraphs])\n",
    "\n",
    "# 주피터 노트북에서 HTML로 출력\n",
    "display(HTML(html_paragraphs))"
   ]
  },
  {
   "cell_type": "code",
   "execution_count": null,
   "metadata": {},
   "outputs": [],
   "source": []
  },
  {
   "cell_type": "code",
   "execution_count": null,
   "metadata": {},
   "outputs": [],
   "source": []
  },
  {
   "cell_type": "code",
   "execution_count": null,
   "metadata": {},
   "outputs": [],
   "source": []
  }
 ],
 "metadata": {
  "kernelspec": {
   "display_name": "daily_env",
   "language": "python",
   "name": "python3"
  },
  "language_info": {
   "codemirror_mode": {
    "name": "ipython",
    "version": 3
   },
   "file_extension": ".py",
   "mimetype": "text/x-python",
   "name": "python",
   "nbconvert_exporter": "python",
   "pygments_lexer": "ipython3",
   "version": "3.12.3"
  }
 },
 "nbformat": 4,
 "nbformat_minor": 2
}
